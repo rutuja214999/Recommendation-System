{
 "cells": [
  {
   "cell_type": "markdown",
   "id": "f732f749",
   "metadata": {},
   "source": [
    "## Importing Libraries"
   ]
  },
  {
   "cell_type": "code",
   "execution_count": 3,
   "id": "244b9e14",
   "metadata": {},
   "outputs": [],
   "source": [
    "import pandas as pd\n",
    "import numpy as np\n",
    "import matplotlib.pyplot as plt\n",
    "import seaborn as sns\n",
    "from sklearn.feature_extraction.text import TfidfVectorizer\n",
    "from sklearn.metrics.pairwise import linear_kernel"
   ]
  },
  {
   "cell_type": "markdown",
   "id": "520cca00",
   "metadata": {},
   "source": [
    "## Read the dataset"
   ]
  },
  {
   "cell_type": "code",
   "execution_count": 5,
   "id": "b82ea838",
   "metadata": {},
   "outputs": [
    {
     "name": "stdout",
     "output_type": "stream",
     "text": [
      "<class 'pandas.core.frame.DataFrame'>\n",
      "RangeIndex: 51 entries, 0 to 50\n",
      "Data columns (total 4 columns):\n",
      " #   Column    Non-Null Count  Dtype  \n",
      "---  ------    --------------  -----  \n",
      " 0   Id        51 non-null     int64  \n",
      " 1   Titles    51 non-null     object \n",
      " 2   Category  51 non-null     object \n",
      " 3   Reviews   51 non-null     float64\n",
      "dtypes: float64(1), int64(1), object(2)\n",
      "memory usage: 1.7+ KB\n"
     ]
    }
   ],
   "source": [
    "ent=pd.read_csv(r\"F:\\Data Science\\Assignments\\Recommendation engine\\RECOMMENDATION\\Entertainment.csv\")\n",
    "ent.info()"
   ]
  },
  {
   "cell_type": "markdown",
   "id": "7e02d5c1",
   "metadata": {},
   "source": [
    "## Checking duplicates\n"
   ]
  },
  {
   "cell_type": "code",
   "execution_count": 6,
   "id": "e785a470",
   "metadata": {},
   "outputs": [
    {
     "data": {
      "text/plain": [
       "0"
      ]
     },
     "execution_count": 6,
     "metadata": {},
     "output_type": "execute_result"
    }
   ],
   "source": [
    "duplicate = ent.duplicated()\n",
    "duplicate\n",
    "sum(duplicate)\n"
   ]
  },
  {
   "cell_type": "markdown",
   "id": "6e5bb18a",
   "metadata": {},
   "source": [
    "#### No Duplicates in the data\n"
   ]
  },
  {
   "cell_type": "markdown",
   "id": "01a18cbe",
   "metadata": {},
   "source": [
    "## Checking for Outlier\n"
   ]
  },
  {
   "cell_type": "code",
   "execution_count": 7,
   "id": "ba727a1d",
   "metadata": {},
   "outputs": [
    {
     "data": {
      "text/plain": [
       "<AxesSubplot: >"
      ]
     },
     "execution_count": 7,
     "metadata": {},
     "output_type": "execute_result"
    },
    {
     "data": {
      "image/png": "[encoded data removed]",
      "text/plain": [
       "<Figure size 640x480 with 1 Axes>"
      ]
     },
     "metadata": {},
     "output_type": "display_data"
    }
   ],
   "source": [
    "sns.boxplot(data=ent)"
   ]
  },
  {
   "cell_type": "markdown",
   "id": "0512004e",
   "metadata": {},
   "source": [
    "### There are no outliers in the data"
   ]
  },
  {
   "cell_type": "markdown",
   "id": "f22e16e7",
   "metadata": {},
   "source": [
    "## Check for count of NA's in each column\n"
   ]
  },
  {
   "cell_type": "code",
   "execution_count": 8,
   "id": "e57f9079",
   "metadata": {},
   "outputs": [
    {
     "data": {
      "text/plain": [
       "Id          0\n",
       "Titles      0\n",
       "Category    0\n",
       "Reviews     0\n",
       "dtype: int64"
      ]
     },
     "execution_count": 8,
     "metadata": {},
     "output_type": "execute_result"
    }
   ],
   "source": [
    "ent.isna().sum()\n"
   ]
  },
  {
   "cell_type": "markdown",
   "id": "231dda51",
   "metadata": {},
   "source": [
    "#### there are no na values in the data"
   ]
  },
  {
   "cell_type": "markdown",
   "id": "6fce3960",
   "metadata": {},
   "source": [
    "## Creating a Tfidf Vectorizer to remove all stop words\n"
   ]
  },
  {
   "cell_type": "code",
   "execution_count": 11,
   "id": "6a1c9a66",
   "metadata": {},
   "outputs": [],
   "source": [
    "tfidf = TfidfVectorizer(stop_words = \"english\")    # taking stop words from tfid vectorizer \n"
   ]
  },
  {
   "cell_type": "code",
   "execution_count": 12,
   "id": "a22cbf71",
   "metadata": {},
   "outputs": [
    {
     "data": {
      "text/plain": [
       "0"
      ]
     },
     "execution_count": 12,
     "metadata": {},
     "output_type": "execute_result"
    }
   ],
   "source": [
    "# Replacing the NaN values in overview column with empty string\n",
    "ent[\"Category\"].isnull().sum()\n"
   ]
  },
  {
   "cell_type": "markdown",
   "id": "13d6a5ed",
   "metadata": {},
   "source": [
    "## Preparing the Tfidf matrix by fitting and transforming\n"
   ]
  },
  {
   "cell_type": "code",
   "execution_count": 13,
   "id": "437a5947",
   "metadata": {},
   "outputs": [
    {
     "data": {
      "text/plain": [
       "(51, 34)"
      ]
     },
     "execution_count": 13,
     "metadata": {},
     "output_type": "execute_result"
    }
   ],
   "source": [
    "tfidf_matrix = tfidf.fit_transform(ent.Category)   #Transform a count matrix to a normalized tf or tf-idf representation\n",
    "tfidf_matrix.shape "
   ]
  },
  {
   "cell_type": "markdown",
   "id": "d8d3877e",
   "metadata": {},
   "source": [
    "#### From the above matrix we need to find the similarity score.\n",
    "#### There are several metrics for this such as the euclidean, \n",
    "#### the Pearson and the cosine similarity scores"
   ]
  },
  {
   "cell_type": "markdown",
   "id": "20791717",
   "metadata": {},
   "source": [
    "#### A numeric quantity to represent the similarity between 2 movies \n",
    "#### Cosine similarity - metric is independent of magnitude and easy to calculate \n",
    "#### cosine(x,y)= (x.y⊺)/(||x||.||y||)\n"
   ]
  },
  {
   "cell_type": "markdown",
   "id": "4d4d4572",
   "metadata": {},
   "source": [
    "## Computing the cosine similarity on Tfidf matrix\n"
   ]
  },
  {
   "cell_type": "code",
   "execution_count": 15,
   "id": "cc648b4b",
   "metadata": {},
   "outputs": [],
   "source": [
    "cosine_sim_matrix = linear_kernel(tfidf_matrix, tfidf_matrix)\n"
   ]
  },
  {
   "cell_type": "markdown",
   "id": "cea0d8e4",
   "metadata": {},
   "source": [
    "## creating a mapping of anime name to index number"
   ]
  },
  {
   "cell_type": "code",
   "execution_count": 16,
   "id": "30f9379d",
   "metadata": {},
   "outputs": [
    {
     "data": {
      "text/plain": [
       "22"
      ]
     },
     "execution_count": 16,
     "metadata": {},
     "output_type": "execute_result"
    }
   ],
   "source": [
    "ent_index = pd.Series(ent.index, index = ent['Titles']).drop_duplicates()\n",
    "\n",
    "ent_id = ent_index[\"Assassins (1995)\"]\n",
    "ent_id"
   ]
  },
  {
   "cell_type": "code",
   "execution_count": 17,
   "id": "4528ba51",
   "metadata": {},
   "outputs": [],
   "source": [
    "def get_recommendations(Titles, topN):    \n",
    "    # topN = 10\n",
    "    # Getting the movie index using its title \n",
    "    ent_id = ent_index[Titles]\n",
    "    \n",
    "    # Getting the pair wise similarity score for all the anime's with that \n",
    "    # anime\n",
    "    cosine_scores = list(enumerate(cosine_sim_matrix[ent_id]))\n",
    "    \n",
    "    # Sorting the cosine_similarity scores based on scores \n",
    "    cosine_scores = sorted(cosine_scores, key=lambda x:x[1], reverse = True)\n",
    "    \n",
    "    # Get the scores of top N most similar movies \n",
    "    cosine_scores_N = cosine_scores[0: topN+1]\n",
    "    \n",
    "    # Getting the movie index \n",
    "    ent_idx  =  [i[0] for i in cosine_scores_N]\n",
    "    ent_scores =  [i[1] for i in cosine_scores_N]\n",
    "    \n",
    "    # Similar movies and scores\n",
    "    entr_similar_show = pd.DataFrame(columns=[\"Titles\", \"Score\"])\n",
    "    entr_similar_show[\"Titles\"] = ent.loc[ent_idx, \"Titles\"]\n",
    "    entr_similar_show[\"Score\"] = ent_scores\n",
    "    entr_similar_show.reset_index(inplace = True)  \n",
    "    print (entr_similar_show)\n",
    "    # The End"
   ]
  },
  {
   "cell_type": "markdown",
   "id": "9822129b",
   "metadata": {},
   "source": [
    "## Enter your anime and number of anime's to be recommended\n"
   ]
  },
  {
   "cell_type": "code",
   "execution_count": 18,
   "id": "68cb381d",
   "metadata": {},
   "outputs": [
    {
     "name": "stdout",
     "output_type": "stream",
     "text": [
      "    index                                             Titles     Score\n",
      "0      19                                 Money Train (1995)  1.000000\n",
      "1      13                                       Nixon (1995)  0.927868\n",
      "2      23                                      Powder (1995)  0.583558\n",
      "3      29  Shanghai Triad (Yao a yao yao dao waipo qiao) ...  0.550845\n",
      "4       6                                     Sabrina (1995)  0.534361\n",
      "5       7                                Tom and Huck (1995)  0.422416\n",
      "6      25                                     Othello (1995)  0.346711\n",
      "7      42               How to Make an American Quilt (1995)  0.300938\n",
      "8       3                           Waiting to Exhale (1995)  0.286326\n",
      "9      22                                   Assassins (1995)  0.276905\n",
      "10      2                            Grumpier Old Men (1995)  0.264993\n"
     ]
    }
   ],
   "source": [
    "ent_index[\"Money Train (1995)\"]\n",
    "get_recommendations(\"Money Train (1995)\", topN = 10)"
   ]
  },
  {
   "cell_type": "markdown",
   "id": "68ed9d1f",
   "metadata": {},
   "source": [
    "### The person watching Money Train can watch Nixon."
   ]
  }
 ],
 "metadata": {
  "kernelspec": {
   "display_name": "Python 3 (ipykernel)",
   "language": "python",
   "name": "python3"
  },
  "language_info": {
   "codemirror_mode": {
    "name": "ipython",
    "version": 3
   },
   "file_extension": ".py",
   "mimetype": "text/x-python",
   "name": "python",
   "nbconvert_exporter": "python",
   "pygments_lexer": "ipython3",
   "version": "3.9.13"
  }
 },
 "nbformat": 4,
 "nbformat_minor": 5
}
